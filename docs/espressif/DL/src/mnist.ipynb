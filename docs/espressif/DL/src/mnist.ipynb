{
  "nbformat": 4,
  "nbformat_minor": 0,
  "metadata": {
    "colab": {
      "provenance": []
    },
    "kernelspec": {
      "name": "python3",
      "display_name": "Python 3"
    },
    "language_info": {
      "name": "python"
    }
  },
  "cells": [
    {
      "cell_type": "code",
      "execution_count": null,
      "metadata": {
        "id": "SCJV-FNVH2gg"
      },
      "outputs": [],
      "source": [
        "import tensorflow as tf\n",
        "from tensorflow import keras"
      ]
    },
    {
      "cell_type": "code",
      "source": [
        "mnist = tf.keras.datasets.mnist\n",
        "(train_images, train_labels),(test_images, test_labels) = mnist.load_data()"
      ],
      "metadata": {
        "id": "JgX5PqL2H4nS"
      },
      "execution_count": null,
      "outputs": []
    },
    {
      "cell_type": "code",
      "source": [
        "train_x = train_images.reshape((train_images.shape[0], 28, 28, 1))\n",
        "train_x = train_x.astype('float32')/255\n",
        "test_x = test_images.reshape((test_images.shape[0], 28, 28, 1))\n",
        "test_x = test_x.astype('float32')/255\n",
        "\n",
        "train_y = tf.keras.utils.to_categorical(train_labels)\n",
        "test_y = tf.keras.utils.to_categorical(test_labels)\n",
        "print(train_y[0])"
      ],
      "metadata": {
        "colab": {
          "base_uri": "https://localhost:8080/"
        },
        "id": "-Dg0jCWJH9WS",
        "outputId": "3737a0a0-0b6e-47f3-e9c2-ae0c7399df85"
      },
      "execution_count": null,
      "outputs": [
        {
          "output_type": "stream",
          "name": "stdout",
          "text": [
            "[0. 0. 0. 0. 0. 1. 0. 0. 0. 0.]\n"
          ]
        }
      ]
    },
    {
      "cell_type": "code",
      "source": [
        "model = tf.keras.models.Sequential([\n",
        "    tf.keras.layers.Conv2D(32, (3, 3), activation=tf.nn.relu, input_shape=(28, 28, 1)),\n",
        "    tf.keras.layers.MaxPooling2D((2, 2)),\n",
        "    tf.keras.layers.Conv2D(64, (3, 3), activation=tf.nn.relu),\n",
        "    tf.keras.layers.MaxPooling2D((2, 2)),\n",
        "    tf.keras.layers.Conv2D(64, (3, 3), activation=tf.nn.relu),\n",
        "    tf.keras.layers.Flatten(),\n",
        "    tf.keras.layers.Dense(64, activation=tf.nn.relu),\n",
        "    tf.keras.layers.Dense(10, activation=tf.nn.softmax)\n",
        "])\n",
        "model.compile(optimizer='adam',\n",
        "              loss='categorical_crossentropy',\n",
        "              metrics=['accuracy'])"
      ],
      "metadata": {
        "id": "1CBSwMP2JdfH"
      },
      "execution_count": null,
      "outputs": []
    },
    {
      "cell_type": "code",
      "source": [
        "model.fit(train_x, train_y, epochs=10, batch_size=512,validation_data=(test_x,test_y))\n",
        "model.save(\"mnist.h5\")"
      ],
      "metadata": {
        "colab": {
          "base_uri": "https://localhost:8080/"
        },
        "id": "9ZPxh0n8JZDo",
        "outputId": "1b0c7d8b-cd61-4ef2-9df8-f144ec98b038"
      },
      "execution_count": null,
      "outputs": [
        {
          "output_type": "stream",
          "name": "stdout",
          "text": [
            "Epoch 1/10\n",
            "118/118 [==============================] - 55s 444ms/step - loss: 0.5380 - accuracy: 0.8437 - val_loss: 0.1259 - val_accuracy: 0.9620\n",
            "Epoch 2/10\n",
            "118/118 [==============================] - 48s 409ms/step - loss: 0.1112 - accuracy: 0.9664 - val_loss: 0.0651 - val_accuracy: 0.9791\n",
            "Epoch 3/10\n",
            "118/118 [==============================] - 51s 431ms/step - loss: 0.0721 - accuracy: 0.9785 - val_loss: 0.0485 - val_accuracy: 0.9847\n",
            "Epoch 4/10\n",
            "118/118 [==============================] - 48s 408ms/step - loss: 0.0559 - accuracy: 0.9832 - val_loss: 0.0457 - val_accuracy: 0.9840\n",
            "Epoch 5/10\n",
            "118/118 [==============================] - 50s 422ms/step - loss: 0.0470 - accuracy: 0.9860 - val_loss: 0.0416 - val_accuracy: 0.9862\n",
            "Epoch 6/10\n",
            "118/118 [==============================] - 50s 426ms/step - loss: 0.0418 - accuracy: 0.9873 - val_loss: 0.0344 - val_accuracy: 0.9886\n",
            "Epoch 7/10\n",
            "118/118 [==============================] - 50s 421ms/step - loss: 0.0374 - accuracy: 0.9882 - val_loss: 0.0324 - val_accuracy: 0.9898\n",
            "Epoch 8/10\n",
            "118/118 [==============================] - 48s 409ms/step - loss: 0.0319 - accuracy: 0.9901 - val_loss: 0.0307 - val_accuracy: 0.9904\n",
            "Epoch 9/10\n",
            "118/118 [==============================] - 49s 420ms/step - loss: 0.0286 - accuracy: 0.9912 - val_loss: 0.0276 - val_accuracy: 0.9912\n",
            "Epoch 10/10\n",
            "118/118 [==============================] - 48s 407ms/step - loss: 0.0249 - accuracy: 0.9922 - val_loss: 0.0309 - val_accuracy: 0.9903\n"
          ]
        },
        {
          "output_type": "stream",
          "name": "stderr",
          "text": [
            "/usr/local/lib/python3.10/dist-packages/keras/src/engine/training.py:3079: UserWarning: You are saving your model as an HDF5 file via `model.save()`. This file format is considered legacy. We recommend using instead the native Keras format, e.g. `model.save('my_model.keras')`.\n",
            "  saving_api.save_model(\n"
          ]
        }
      ]
    },
    {
      "cell_type": "code",
      "source": [
        "# dataset = train_x\n",
        "# def representative_data_gen():\n",
        "#     for image in dataset[0:100,:,:]:\n",
        "#         yield[image.reshape(-1,train_images.shape[1],train_images.shape[2],1).astype(\"float32\")]\n",
        "\n",
        "# converter = tf.lite.TFLiteConverter.from_keras_model(model)\n",
        "# converter.optimizations = [tf.lite.Optimize.DEFAULT]\n",
        "# converter.representative_dataset = representative_data_gen\n",
        "# converter.target_spec.supported_ops = [tf.lite.OpsSet.TFLITE_BUILTINS_INT8]\n",
        "\n",
        "# converter.inference_input_type = tf.int8\n",
        "# converter.inference_output_type = tf.int8\n",
        "# tflite_model = converter.convert()\n",
        "# open(\"mnist.tflite\", \"wb\").write(tflite_model)\n",
        "\n",
        "converter = tf.lite.TFLiteConverter.from_keras_model(model)\n",
        "tflite_model = converter.convert()\n",
        "flatbuffer_size = open(\"mnist.tflite\", \"wb\").write(tflite_model)\n",
        "\n",
        "print('The size of the converted flatbuffer is: %d bytes' % flatbuffer_size)\n"
      ],
      "metadata": {
        "colab": {
          "base_uri": "https://localhost:8080/"
        },
        "id": "V3E8xcWdP_3-",
        "outputId": "73d2aa40-2c83-491f-f537-957a9a1dfbea"
      },
      "execution_count": null,
      "outputs": [
        {
          "output_type": "stream",
          "name": "stdout",
          "text": [
            "The size of the converted flatbuffer is: 377312 bytes\n"
          ]
        }
      ]
    },
    {
      "cell_type": "code",
      "source": [
        "!apt-get -qq install xxd\n",
        "!xxd -i mnist.tflite > mnist.cc\n"
      ],
      "metadata": {
        "id": "YMWtd5F9VsKo"
      },
      "execution_count": null,
      "outputs": []
    },
    {
      "cell_type": "code",
      "source": [
        "import numpy as np\n",
        "import matplotlib.pyplot as plt\n",
        "test = test_x[10]\n",
        "\n",
        "fig = plt.figure\n",
        "plt.imshow(test, cmap='gray')\n",
        "plt.show()\n",
        "\n",
        "print(test_y[10])\n",
        "test = test.reshape(-1,28,28,1)\n",
        "print(np.argmax(model.predict(test)))\n",
        "\n",
        "\n",
        "test_1 = test.reshape(28,28)\n",
        "array = test_1.flatten()\n",
        "print(array.shape)\n",
        "result_string = \",\".join(map(str, array))\n",
        "print(result_string)\n"
      ],
      "metadata": {
        "colab": {
          "base_uri": "https://localhost:8080/",
          "height": 537
        },
        "id": "ZhALlWpeV2JI",
        "outputId": "b4543061-ab7c-45b6-f71a-bf82ec40cd95"
      },
      "execution_count": null,
      "outputs": [
        {
          "output_type": "display_data",
          "data": {
            "text/plain": [
              "<Figure size 640x480 with 1 Axes>"
            ],
            "image/png": "[encoded data removed]"
          },
          "metadata": {}
        },
        {
          "output_type": "stream",
          "name": "stdout",
          "text": [
            "[1. 0. 0. 0. 0. 0. 0. 0. 0. 0.]\n",
            "1/1 [==============================] - 0s 42ms/step\n",
            "0\n",
            "(784,)\n",
            "0.0,0.0,0.0,0.0,0.0,0.0,0.0,0.0,0.0,0.0,0.0,0.0,0.0,0.0,0.0,0.0,0.0,0.0,0.0,0.0,0.0,0.0,0.0,0.0,0.0,0.0,0.0,0.0,0.0,0.0,0.0,0.0,0.0,0.0,0.0,0.0,0.0,0.0,0.0,0.0,0.0,0.0,0.0,0.0,0.0,0.0,0.0,0.0,0.0,0.0,0.0,0.0,0.0,0.0,0.0,0.0,0.0,0.0,0.0,0.0,0.0,0.0,0.0,0.0,0.0,0.0,0.0,0.0,0.0,0.0,0.0,0.0,0.0,0.0,0.0,0.0,0.0,0.0,0.0,0.0,0.0,0.0,0.0,0.0,0.0,0.0,0.0,0.0,0.0,0.0,0.0,0.0,0.0,0.0,0.0,0.0,0.0,0.0,0.0,0.0,0.0,0.0,0.0,0.0,0.0,0.0,0.0,0.0,0.0,0.0,0.0,0.0,0.0,0.0,0.0,0.0,0.0,0.0,0.0,0.0,0.0,0.0,0.0,0.23921569,0.011764706,0.16470589,0.4627451,0.75686276,0.4627451,0.4627451,0.23921569,0.0,0.0,0.0,0.0,0.0,0.0,0.0,0.0,0.0,0.0,0.0,0.0,0.0,0.0,0.0,0.0,0.0,0.0,0.05490196,0.7019608,0.9607843,0.9254902,0.9490196,0.99607843,0.99607843,0.99607843,0.99607843,0.9607843,0.92156863,0.32941177,0.0,0.0,0.0,0.0,0.0,0.0,0.0,0.0,0.0,0.0,0.0,0.0,0.0,0.0,0.0,0.0,0.5921569,0.99607843,0.99607843,0.99607843,0.8352941,0.7529412,0.69803923,0.69803923,0.7058824,0.99607843,0.99607843,0.94509804,0.18039216,0.0,0.0,0.0,0.0,0.0,0.0,0.0,0.0,0.0,0.0,0.0,0.0,0.0,0.0,0.16862746,0.92156863,0.99607843,0.8862745,0.2509804,0.10980392,0.047058824,0.0,0.0,0.007843138,0.5019608,0.9882353,1.0,0.6784314,0.06666667,0.0,0.0,0.0,0.0,0.0,0.0,0.0,0.0,0.0,0.0,0.0,0.0,0.0,0.21960784,0.99607843,0.99215686,0.41960785,0.0,0.0,0.0,0.0,0.0,0.0,0.0,0.5254902,0.98039216,0.99607843,0.29411766,0.0,0.0,0.0,0.0,0.0,0.0,0.0,0.0,0.0,0.0,0.0,0.0,0.0,0.24705882,0.99607843,0.61960787,0.0,0.0,0.0,0.0,0.0,0.0,0.0,0.0,0.0,0.8666667,0.99607843,0.6156863,0.0,0.0,0.0,0.0,0.0,0.0,0.0,0.0,0.0,0.0,0.0,0.0,0.0,0.7607843,0.99607843,0.40392157,0.0,0.0,0.0,0.0,0.0,0.0,0.0,0.0,0.0,0.5882353,0.99607843,0.8352941,0.0,0.0,0.0,0.0,0.0,0.0,0.0,0.0,0.0,0.0,0.0,0.0,0.13333334,0.8627451,0.9372549,0.22745098,0.0,0.0,0.0,0.0,0.0,0.0,0.0,0.0,0.0,0.32941177,0.99607843,0.8352941,0.0,0.0,0.0,0.0,0.0,0.0,0.0,0.0,0.0,0.0,0.0,0.0,0.49411765,0.99607843,0.67058825,0.0,0.0,0.0,0.0,0.0,0.0,0.0,0.0,0.0,0.0,0.32941177,0.99607843,0.8352941,0.0,0.0,0.0,0.0,0.0,0.0,0.0,0.0,0.0,0.0,0.0,0.0,0.8392157,0.9372549,0.23529412,0.0,0.0,0.0,0.0,0.0,0.0,0.0,0.0,0.0,0.0,0.32941177,0.99607843,0.8352941,0.0,0.0,0.0,0.0,0.0,0.0,0.0,0.0,0.0,0.0,0.0,0.0,0.8392157,0.78039217,0.0,0.0,0.0,0.0,0.0,0.0,0.0,0.0,0.0,0.0,0.0,0.32941177,0.99607843,0.8352941,0.0,0.0,0.0,0.0,0.0,0.0,0.0,0.0,0.0,0.0,0.0,0.043137256,0.85882354,0.78039217,0.0,0.0,0.0,0.0,0.0,0.0,0.0,0.0,0.0,0.0,0.0,0.32941177,0.99607843,0.8352941,0.0,0.0,0.0,0.0,0.0,0.0,0.0,0.0,0.0,0.0,0.0,0.38431373,0.99607843,0.78039217,0.0,0.0,0.0,0.0,0.0,0.0,0.0,0.0,0.0,0.0,0.0,0.63529414,0.99607843,0.81960785,0.0,0.0,0.0,0.0,0.0,0.0,0.0,0.0,0.0,0.0,0.0,0.38431373,0.99607843,0.78039217,0.0,0.0,0.0,0.0,0.0,0.0,0.0,0.0,0.0,0.0,0.2,0.93333334,0.99607843,0.29411766,0.0,0.0,0.0,0.0,0.0,0.0,0.0,0.0,0.0,0.0,0.0,0.38431373,0.99607843,0.78039217,0.0,0.0,0.0,0.0,0.0,0.0,0.0,0.0,0.0,0.2,0.64705884,0.99607843,0.7647059,0.015686275,0.0,0.0,0.0,0.0,0.0,0.0,0.0,0.0,0.0,0.0,0.0,0.25882354,0.94509804,0.78039217,0.0,0.0,0.0,0.0,0.0,0.0,0.0,0.0,0.011764706,0.654902,0.99607843,0.8901961,0.21568628,0.0,0.0,0.0,0.0,0.0,0.0,0.0,0.0,0.0,0.0,0.0,0.0,0.0,0.8392157,0.8352941,0.078431375,0.0,0.0,0.0,0.0,0.0,0.18039216,0.59607846,0.7921569,0.99607843,0.99607843,0.24705882,0.0,0.0,0.0,0.0,0.0,0.0,0.0,0.0,0.0,0.0,0.0,0.0,0.0,0.0,0.8392157,0.99607843,0.8,0.7058824,0.7058824,0.7058824,0.7058824,0.7058824,0.92156863,0.99607843,0.99607843,0.91764706,0.6117647,0.039215688,0.0,0.0,0.0,0.0,0.0,0.0,0.0,0.0,0.0,0.0,0.0,0.0,0.0,0.0,0.31764707,0.8039216,0.99607843,0.99607843,0.99607843,0.99607843,0.99607843,0.99607843,0.99607843,0.9882353,0.91764706,0.47058824,0.0,0.0,0.0,0.0,0.0,0.0,0.0,0.0,0.0,0.0,0.0,0.0,0.0,0.0,0.0,0.0,0.0,0.101960786,0.8235294,0.99607843,0.99607843,0.99607843,0.99607843,0.99607843,0.6,0.40784314,0.0,0.0,0.0,0.0,0.0,0.0,0.0,0.0,0.0,0.0,0.0,0.0,0.0,0.0,0.0,0.0,0.0,0.0,0.0,0.0,0.0,0.0,0.0,0.0,0.0,0.0,0.0,0.0,0.0,0.0,0.0,0.0,0.0,0.0,0.0,0.0,0.0,0.0,0.0,0.0,0.0,0.0,0.0,0.0,0.0,0.0,0.0,0.0,0.0,0.0,0.0,0.0,0.0,0.0,0.0,0.0,0.0,0.0,0.0,0.0,0.0,0.0,0.0,0.0,0.0,0.0,0.0,0.0,0.0,0.0,0.0,0.0,0.0,0.0,0.0,0.0,0.0,0.0,0.0,0.0,0.0,0.0,0.0,0.0,0.0,0.0,0.0,0.0,0.0,0.0,0.0,0.0,0.0,0.0,0.0,0.0,0.0,0.0,0.0,0.0,0.0,0.0,0.0,0.0,0.0,0.0,0.0,0.0,0.0,0.0,0.0,0.0,0.0,0.0,0.0,0.0,0.0,0.0,0.0,0.0,0.0,0.0,0.0\n"
          ]
        }
      ]
    }
  ]
}